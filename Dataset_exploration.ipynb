{
 "cells": [
  {
   "cell_type": "markdown",
   "metadata": {
    "deletable": true,
    "editable": true
   },
   "source": [
    "# Dataset exploration"
   ]
  },
  {
   "cell_type": "markdown",
   "metadata": {
    "deletable": true,
    "editable": true
   },
   "source": [
    "Import the packages"
   ]
  },
  {
   "cell_type": "code",
   "execution_count": 1,
   "metadata": {
    "collapsed": true,
    "deletable": true,
    "editable": true
   },
   "outputs": [],
   "source": [
    "%matplotlib inline\n",
    "import sys\n",
    "sys.path.insert(0, 'src/')"
   ]
  },
  {
   "cell_type": "code",
   "execution_count": 2,
   "metadata": {
    "collapsed": false,
    "deletable": true,
    "editable": true
   },
   "outputs": [],
   "source": [
    "import data_splitting\n",
    "import pandas as pd\n",
    "import sys\n",
    "\n",
    "import matplotlib.pyplot as plt\n",
    "import numpy as np\n",
    "\n",
    "try:\n",
    "    from nltk import wordpunct_tokenize\n",
    "    from nltk.corpus import stopwords\n",
    "except ImportError:\n",
    "    print '[!] You need to install nltk (http://nltk.org/index.html)'"
   ]
  },
  {
   "cell_type": "markdown",
   "metadata": {
    "deletable": true,
    "editable": true
   },
   "source": [
    "load the dataset files"
   ]
  },
  {
   "cell_type": "code",
   "execution_count": 3,
   "metadata": {
    "collapsed": false,
    "deletable": true,
    "editable": true
   },
   "outputs": [],
   "source": [
    "bf='dataset/train_bodies.csv'\n",
    "sf='dataset/train_stances.csv'\n",
    "\n",
    "bodies = pd.read_csv(bf)\n",
    "stances = pd.read_csv(sf)\n",
    "\n",
    "bs = data_splitting.import_data(bf,sf)"
   ]
  },
  {
   "cell_type": "markdown",
   "metadata": {
    "deletable": true,
    "editable": true
   },
   "source": [
    "## Article bodies exploration"
   ]
  },
  {
   "cell_type": "markdown",
   "metadata": {
    "deletable": true,
    "editable": true
   },
   "source": [
    "These functions predict the language of the body"
   ]
  },
  {
   "cell_type": "code",
   "execution_count": 4,
   "metadata": {
    "collapsed": true,
    "deletable": true,
    "editable": true
   },
   "outputs": [],
   "source": [
    "# http://blog.alejandronolla.com/2013/05/15/detecting-text-language-with-python-and-nltk/\n",
    "def _calculate_languages_ratios(text):\n",
    "\n",
    "    languages_ratios = {}\n",
    "\n",
    "    tokens = wordpunct_tokenize(text)\n",
    "    words = [word.lower() for word in tokens]\n",
    "\n",
    "    # Compute per language included in nltk number of unique stopwords appearing in analyzed text\n",
    "    for language in stopwords.fileids():\n",
    "        stopwords_set = set(stopwords.words(language))\n",
    "        words_set = set(words)\n",
    "        common_elements = words_set.intersection(stopwords_set)\n",
    "\n",
    "        languages_ratios[language] = len(common_elements) # language \"score\"\n",
    "\n",
    "    return languages_ratios\n",
    "\n",
    "\n",
    "def detect_language(text):\n",
    "\n",
    "    ratios = _calculate_languages_ratios(text)\n",
    "\n",
    "    most_rated_language = max(ratios, key=ratios.get)\n",
    "\n",
    "    return most_rated_language"
   ]
  },
  {
   "cell_type": "code",
   "execution_count": 5,
   "metadata": {
    "collapsed": false,
    "deletable": true,
    "editable": true
   },
   "outputs": [
    {
     "name": "stderr",
     "output_type": "stream",
     "text": [
      "/Users/richardgodden/envs/fnc-1/lib/python2.7/site-packages/ipykernel_launcher.py:13: UnicodeWarning: Unicode equal comparison failed to convert both arguments to Unicode - interpreting them as being unequal\n",
      "  del sys.path[0]\n"
     ]
    }
   ],
   "source": [
    "bodies['language']=bodies.apply(lambda row: detect_language(row['articleBody']), axis=1)\n",
    "bodies['wordCount']=bodies.apply(lambda row: len(row['articleBody'].split()), axis=1)\n",
    "bodies['sentenceCount']=bodies.apply(lambda row: row['articleBody'].count('.')+row['articleBody'].count('?')+row['articleBody'].count('!'), axis=1)"
   ]
  },
  {
   "cell_type": "code",
   "execution_count": 6,
   "metadata": {
    "collapsed": false,
    "deletable": true,
    "editable": true
   },
   "outputs": [
    {
     "name": "stdout",
     "output_type": "stream",
     "text": [
      "total number of bodies:  1683\n"
     ]
    }
   ],
   "source": [
    "print 'total number of bodies: ', len(bodies)"
   ]
  },
  {
   "cell_type": "code",
   "execution_count": 7,
   "metadata": {
    "collapsed": false,
    "deletable": true,
    "editable": true
   },
   "outputs": [
    {
     "data": {
      "text/html": [
       "<div>\n",
       "<table border=\"1\" class=\"dataframe\">\n",
       "  <thead>\n",
       "    <tr style=\"text-align: right;\">\n",
       "      <th></th>\n",
       "      <th>Body ID</th>\n",
       "      <th>articleBody</th>\n",
       "      <th>language</th>\n",
       "      <th>wordCount</th>\n",
       "      <th>sentenceCount</th>\n",
       "    </tr>\n",
       "  </thead>\n",
       "  <tbody>\n",
       "    <tr>\n",
       "      <th>413</th>\n",
       "      <td>624</td>\n",
       "      <td>您所访问的资源已不存在。\\n查看更多请返回网站主页。\\n» cctvnews.cn</td>\n",
       "      <td>swedish</td>\n",
       "      <td>4</td>\n",
       "      <td>1</td>\n",
       "    </tr>\n",
       "    <tr>\n",
       "      <th>594</th>\n",
       "      <td>891</td>\n",
       "      <td>A US airstrike allegedly killed ISIS leader Al...</td>\n",
       "      <td>spanish</td>\n",
       "      <td>8</td>\n",
       "      <td>1</td>\n",
       "    </tr>\n",
       "    <tr>\n",
       "      <th>1119</th>\n",
       "      <td>1686</td>\n",
       "      <td>L’inspecteur viral avoue que son petit coeur a...</td>\n",
       "      <td>french</td>\n",
       "      <td>430</td>\n",
       "      <td>45</td>\n",
       "    </tr>\n",
       "    <tr>\n",
       "      <th>1325</th>\n",
       "      <td>1989</td>\n",
       "      <td>ISIL beheaded British aid worker David Haines ...</td>\n",
       "      <td>french</td>\n",
       "      <td>12</td>\n",
       "      <td>1</td>\n",
       "    </tr>\n",
       "    <tr>\n",
       "      <th>1590</th>\n",
       "      <td>2391</td>\n",
       "      <td>VLADIMIR Putin’s Motorcade looks like a massiv...</td>\n",
       "      <td>hungarian</td>\n",
       "      <td>10</td>\n",
       "      <td>0</td>\n",
       "    </tr>\n",
       "    <tr>\n",
       "      <th>1670</th>\n",
       "      <td>2515</td>\n",
       "      <td>Et si Dieu était une femme? C'est ce qu'affirm...</td>\n",
       "      <td>french</td>\n",
       "      <td>263</td>\n",
       "      <td>16</td>\n",
       "    </tr>\n",
       "  </tbody>\n",
       "</table>\n",
       "</div>"
      ],
      "text/plain": [
       "      Body ID                                        articleBody   language  \\\n",
       "413       624          您所访问的资源已不存在。\\n查看更多请返回网站主页。\\n» cctvnews.cn    swedish   \n",
       "594       891  A US airstrike allegedly killed ISIS leader Al...    spanish   \n",
       "1119     1686  L’inspecteur viral avoue que son petit coeur a...     french   \n",
       "1325     1989  ISIL beheaded British aid worker David Haines ...     french   \n",
       "1590     2391  VLADIMIR Putin’s Motorcade looks like a massiv...  hungarian   \n",
       "1670     2515  Et si Dieu était une femme? C'est ce qu'affirm...     french   \n",
       "\n",
       "      wordCount  sentenceCount  \n",
       "413           4              1  \n",
       "594           8              1  \n",
       "1119        430             45  \n",
       "1325         12              1  \n",
       "1590         10              0  \n",
       "1670        263             16  "
      ]
     },
     "execution_count": 7,
     "metadata": {},
     "output_type": "execute_result"
    }
   ],
   "source": [
    "english = bodies.loc[bodies['language'] == 'english']\n",
    "nonenglish = bodies.loc[bodies['language'] != 'english']\n",
    "nonenglish"
   ]
  },
  {
   "cell_type": "markdown",
   "metadata": {
    "deletable": true,
    "editable": true
   },
   "source": [
    "### The non english bodies full text"
   ]
  },
  {
   "cell_type": "code",
   "execution_count": 8,
   "metadata": {
    "collapsed": false,
    "deletable": true,
    "editable": true
   },
   "outputs": [
    {
     "name": "stdout",
     "output_type": "stream",
     "text": [
      "您所访问的资源已不存在。\n",
      "查看更多请返回网站主页。\n",
      "» cctvnews.cn\n"
     ]
    }
   ],
   "source": [
    "print bodies.get_value(413,'articleBody')"
   ]
  },
  {
   "cell_type": "code",
   "execution_count": 9,
   "metadata": {
    "collapsed": false,
    "deletable": true,
    "editable": true
   },
   "outputs": [
    {
     "name": "stdout",
     "output_type": "stream",
     "text": [
      "A US airstrike allegedly killed ISIS leader Al-Baghdadi.\n"
     ]
    }
   ],
   "source": [
    "print bodies.get_value(594,'articleBody')"
   ]
  },
  {
   "cell_type": "code",
   "execution_count": 10,
   "metadata": {
    "collapsed": false,
    "deletable": true,
    "editable": true
   },
   "outputs": [
    {
     "name": "stdout",
     "output_type": "stream",
     "text": [
      "L’inspecteur viral avoue que son petit coeur a sauté de joie pendant une micro seconde en voyant cette nouvelle.\n",
      "\n",
      "Comme ont annoncé plusieurs médias (en prenant soin de mettre un point d’interrogation à la fin de leur titre, pour qu’on ne les accuse pas de propager des nouvelles-vidanges), le réalisateur de Star Wars epsiode VII, J. J. Abrams, aurait dit, au cours d’une cérémonie où il a reçu un prix de la part du Visual Effects Society (VES) le 4 février, qu’il souhaitait que Disney devance la sortie de son film à cet été.\n",
      "\n",
      "Wow! Nous qui attendions avec impatience la date de lancement officielle, prévue pour le 18 décembre!!\n",
      "\n",
      "Comme vous l’apprenait Métro récemment, les médias sautent souvent sur une nouvelle sans vérifier les informations de bases. Examinons:\n",
      "\n",
      "1. Tous les articles offrent comme source les sites iKwiz et Moviepilot.\n",
      "\n",
      "2. iKwiz est un site qui offre des quiz et du contenu léger sous forme de listes. Ce n’est pas un site de nouvelles.\n",
      "\n",
      "3. Moviepilot base son reportage sur cette vidéo YouTube qui apparaît sur… le site iKwiz.\n",
      "\n",
      "4. Donc: tous les articles à propos de cette rumeur se basent sur une seule vidéo YouTube, qui, il faut le mentionner, n’a pas été créée par un journaliste. Le vidéaste ne mentionne aucune source pour son information.\n",
      "\n",
      "5. Voici un article écrit le soir des VES sur la présence de J. J. Abrams. Aucune mention de la date de lancement de Star Wars.\n",
      "\n",
      "6. Voici une entrevue avec M. Abrams lors des VES. Encore une fois, aucune mention de la date de lancement.\n",
      "\n",
      "7. Le Twitter officiel de Star Wars a réagit le 10 février sur ces rumeurs. On écrit «Maintenez la cible! Seulement 310 jours avant #TheForceAwakens.» La date de lancement originale est donc reconfirmée:\n",
      "\n",
      "\n",
      "8. Disney studios n’ont toujours pas répondu au courriel que leur a lancé l’inspecteur viral, sollicitant une confirmation officielle. Il mettra à jour son article, au cas échéant.\n",
      "\n",
      "Mais, encore plus ridicule:\n",
      "\n",
      "9. Disney lancera Jurassic World cet été. Est-ce que Disney ressusciterait deux franchises-phares en même temps, séparant ainsi le revenu et l’attention médiatique? Voyons.\n",
      "\n",
      "10. Disney lance aussi un autre film à gros budget cet été: Ant-Man. Le terrain commence à être pas mal serré pour Disney.\n",
      "\n",
      "11. On ne peut pas devancer un film de six mois sans causer des problèmes majeurs de logistique, surtout pour un film comme Star Wars, où la myriade de joujoux et autres boîtes à lunch à l’effigie des personnages fait partie prenante du lancement.\n",
      "\n",
      "Journalisme 101, les amis. Le web est un endroit étrange.\n"
     ]
    }
   ],
   "source": [
    "print bodies.get_value(1119,'articleBody')"
   ]
  },
  {
   "cell_type": "code",
   "execution_count": 11,
   "metadata": {
    "collapsed": false,
    "deletable": true,
    "editable": true
   },
   "outputs": [
    {
     "name": "stdout",
     "output_type": "stream",
     "text": [
      "ISIL beheaded British aid worker David Haines as shown on released video.\n"
     ]
    }
   ],
   "source": [
    "print bodies.get_value(1325,'articleBody')"
   ]
  },
  {
   "cell_type": "code",
   "execution_count": 12,
   "metadata": {
    "collapsed": false,
    "deletable": true,
    "editable": true
   },
   "outputs": [
    {
     "name": "stdout",
     "output_type": "stream",
     "text": [
      "VLADIMIR Putin’s Motorcade looks like a massive knob:\n",
      "Spotter: UsVThem\n"
     ]
    }
   ],
   "source": [
    "print bodies.get_value(1590,'articleBody')"
   ]
  },
  {
   "cell_type": "code",
   "execution_count": 13,
   "metadata": {
    "collapsed": false,
    "deletable": true,
    "editable": true
   },
   "outputs": [
    {
     "name": "stdout",
     "output_type": "stream",
     "text": [
      "Et si Dieu était une femme? C'est ce qu'affirme le père John Micheal O’neal, prêtre de 71 ans dans le Massachusetts. Le 29 janvier dernier, il est amené d’urgence à l’hôpital, victime d'une crise cardiaque. Quelques minutes après son arrivée, il est déclaré cliniquement mort. Les médecins parviennent finalement à le «ramener à la vie en redémarrant son cœur, 48 minutes après qu’il s’est arrêté, rapportent plusieurs médias américains.\n",
      "Le religieux américain a prétendu avoir des souvenirs clairs de ce qui lui était arrivé pendant ces longues minutes de mort clinique. Il explique avoir eu la sensation d’être sorti de son corps, entouré par une lumière écrasante, et éprouvé un sentiment d’intense amour autour de lui. Des sensations souvent évoquées par ceux qui ont fait l’expérience de mort imminente (EMI).  \n",
      "Dieu, une «figure maternelle chaleureuse et réconfortante»\n",
      "Mais John Micheal O’neal va plus loin. Il affirme être monté au ciel et avoir rencontré le Tout-puissant. Celui-ci serait un «être de lumière», mais surtout, une «figure maternelle chaleureuse et réconfortante».\n",
      "«Sa présence était à la fois immense et réconfortante», déclare le prêtre catholique. «Elle avait une voix douce et apaisante et sa présence était aussi rassurante que l'étreinte d'une mère. Le fait que Dieu soit une Sainte=Mère au lieu d'un Saint-Père ne me dérange pas, elle est tout ce que j'espérais et même plus encore».\n",
      "Ces déclarations ont provoqué l’émoi dans le clergé catholique de l'archidiocèse, obligeant le cardinal Sean P. O’Malley  à faire une déclaration publique, pour expliquer que Dieu n’était pas une femme et que le père O’neal avait subi des hallucinations.\n"
     ]
    }
   ],
   "source": [
    "print bodies.get_value(1670,'articleBody')"
   ]
  },
  {
   "cell_type": "markdown",
   "metadata": {
    "deletable": true,
    "editable": true
   },
   "source": [
    "### word and sentence counts"
   ]
  },
  {
   "cell_type": "code",
   "execution_count": 14,
   "metadata": {
    "collapsed": false,
    "deletable": true,
    "editable": true
   },
   "outputs": [
    {
     "data": {
      "image/png": "[encoded data removed]",
      "text/plain": [
       "<matplotlib.figure.Figure at 0x10c802cd0>"
      ]
     },
     "metadata": {},
     "output_type": "display_data"
    },
    {
     "name": "stdout",
     "output_type": "stream",
     "text": [
      "Min wordcount: 8\n",
      "Median wordcount: 302.0\n",
      "Max wordcount: 4788\n"
     ]
    }
   ],
   "source": [
    "plt.figure(figsize=(18.5, 10.5))\n",
    "a = english['wordCount']  # deterministic random data\n",
    "plt.hist(a.as_matrix(), bins='auto')  # plt.hist passes it's arguments to np.histogram\n",
    "plt.title(\"Histogram of the word count for bodies\")\n",
    "plt.show()\n",
    "print'Min wordcount:', a.min()\n",
    "print'Median wordcount:', a.median()\n",
    "print'Max wordcount:', a.max()"
   ]
  },
  {
   "cell_type": "code",
   "execution_count": 15,
   "metadata": {
    "collapsed": false,
    "deletable": true,
    "editable": true
   },
   "outputs": [
    {
     "data": {
      "image/png": "[encoded data removed]",
      "text/plain": [
       "<matplotlib.figure.Figure at 0x10c802150>"
      ]
     },
     "metadata": {},
     "output_type": "display_data"
    },
    {
     "name": "stdout",
     "output_type": "stream",
     "text": [
      "Min sentence count: 0\n",
      "Median sentence count: 16.0\n",
      "Max sentence count: 225\n"
     ]
    }
   ],
   "source": [
    "plt.figure(figsize=(18.5, 10.5))\n",
    "a = english['sentenceCount']  # deterministic random data\n",
    "plt.hist(a.as_matrix(), bins='auto')  # plt.hist passes it's arguments to np.histogram\n",
    "plt.title(\"Histogram of the sentence count for bodies\")\n",
    "plt.show()\n",
    "print'Min sentence count:', a.min()\n",
    "print'Median sentence count:', a.median()\n",
    "print'Max sentence count:', a.max()"
   ]
  },
  {
   "cell_type": "markdown",
   "metadata": {
    "collapsed": true,
    "deletable": true,
    "editable": true
   },
   "source": [
    "## Headline exploration"
   ]
  },
  {
   "cell_type": "code",
   "execution_count": 16,
   "metadata": {
    "collapsed": false,
    "deletable": true,
    "editable": true
   },
   "outputs": [],
   "source": [
    "headlines = stances.drop(['Body ID', 'Stance'], axis=1)\n",
    "headlines['freq'] = headlines.groupby('Headline')['Headline'].transform('count')\n",
    "headlines = headlines.drop_duplicates(subset=['Headline'])"
   ]
  },
  {
   "cell_type": "code",
   "execution_count": 26,
   "metadata": {
    "collapsed": false,
    "deletable": true,
    "editable": true
   },
   "outputs": [
    {
     "name": "stdout",
     "output_type": "stream",
     "text": [
      "there are: 1648 headlines\n"
     ]
    }
   ],
   "source": [
    "headlines['language']=headlines.apply(lambda row: detect_language(row['Headline']), axis=1)\n",
    "headlines['wordCount']=headlines.apply(lambda row: len(row['Headline'].split()), axis=1)\n",
    "headlines['sentenceCount']=headlines.apply(lambda row: row['Headline'].count('.')+row['Headline'].count('?')+row['Headline'].count('!'), axis=1)\n",
    "print 'there are:', len(headlines), 'headlines'"
   ]
  },
  {
   "cell_type": "code",
   "execution_count": 21,
   "metadata": {
    "collapsed": false,
    "deletable": true,
    "editable": true
   },
   "outputs": [
    {
     "data": {
      "image/png": "[encoded data removed]",
      "text/plain": [
       "<matplotlib.figure.Figure at 0x1153db0d0>"
      ]
     },
     "metadata": {},
     "output_type": "display_data"
    },
    {
     "name": "stdout",
     "output_type": "stream",
     "text": [
      "Min word count: 2\n",
      "Median word count: 11.0\n",
      "Max word count: 40\n"
     ]
    }
   ],
   "source": [
    "plt.figure(figsize=(18.5, 10.5))\n",
    "a = headlines['wordCount']  # deterministic random data\n",
    "plt.hist(a.as_matrix(), bins=np.arange(0,40,1))  # plt.hist passes it's arguments to np.histogram\n",
    "plt.title(\"Histogram of the word count for headlines\")\n",
    "plt.show()\n",
    "print'Min word count:', a.min()\n",
    "print'Median word count:', a.median()\n",
    "print'Max word count:', a.max()"
   ]
  },
  {
   "cell_type": "code",
   "execution_count": 19,
   "metadata": {
    "collapsed": false,
    "deletable": true,
    "editable": true
   },
   "outputs": [
    {
     "data": {
      "image/png": "[encoded data removed]",
      "text/plain": [
       "<matplotlib.figure.Figure at 0x115972cd0>"
      ]
     },
     "metadata": {},
     "output_type": "display_data"
    },
    {
     "name": "stdout",
     "output_type": "stream",
     "text": [
      "Min freq count: 2\n",
      "Median freq count: 26.0\n",
      "Max freq count: 127\n"
     ]
    }
   ],
   "source": [
    "plt.figure(figsize=(18.5, 10.5))\n",
    "a = headlines['freq']  # deterministic random data\n",
    "plt.hist(a.as_matrix(), bins='auto')  # plt.hist passes it's arguments to np.histogram\n",
    "plt.title(\"Histogram of the number of articles each headline is compared to\")\n",
    "plt.show()\n",
    "print'Min freq count:', a.min()\n",
    "print'Median freq count:', a.median()\n",
    "print'Max freq count:', a.max()"
   ]
  },
  {
   "cell_type": "code",
   "execution_count": 29,
   "metadata": {
    "collapsed": false,
    "deletable": true,
    "editable": true
   },
   "outputs": [
    {
     "data": {
      "text/html": [
       "<div>\n",
       "<table border=\"1\" class=\"dataframe\">\n",
       "  <thead>\n",
       "    <tr style=\"text-align: right;\">\n",
       "      <th></th>\n",
       "      <th>Headline</th>\n",
       "      <th>freq</th>\n",
       "      <th>language</th>\n",
       "      <th>wordCount</th>\n",
       "      <th>sentenceCount</th>\n",
       "    </tr>\n",
       "  </thead>\n",
       "  <tbody>\n",
       "    <tr>\n",
       "      <th>10</th>\n",
       "      <td>Gateway Pundit</td>\n",
       "      <td>26</td>\n",
       "      <td>swedish</td>\n",
       "      <td>2</td>\n",
       "      <td>0</td>\n",
       "    </tr>\n",
       "    <tr>\n",
       "      <th>16</th>\n",
       "      <td>Boko Haram Denies Nigeria Cease-Fire Claim</td>\n",
       "      <td>53</td>\n",
       "      <td>swedish</td>\n",
       "      <td>6</td>\n",
       "      <td>0</td>\n",
       "    </tr>\n",
       "    <tr>\n",
       "      <th>19</th>\n",
       "      <td>ISIL Beheads American Photojournalist in Iraq</td>\n",
       "      <td>127</td>\n",
       "      <td>german</td>\n",
       "      <td>6</td>\n",
       "      <td>0</td>\n",
       "    </tr>\n",
       "    <tr>\n",
       "      <th>26</th>\n",
       "      <td>Luke Somers Dies In Rescue Attempt, Sister Say...</td>\n",
       "      <td>15</td>\n",
       "      <td>german</td>\n",
       "      <td>16</td>\n",
       "      <td>0</td>\n",
       "    </tr>\n",
       "    <tr>\n",
       "      <th>27</th>\n",
       "      <td>Christian Bale Exits Steve Jobs Movie (Exclusive)</td>\n",
       "      <td>43</td>\n",
       "      <td>swedish</td>\n",
       "      <td>7</td>\n",
       "      <td>0</td>\n",
       "    </tr>\n",
       "    <tr>\n",
       "      <th>35</th>\n",
       "      <td>Report: ISIS Leader Abu Bakr Al-Baghdadi Assas...</td>\n",
       "      <td>27</td>\n",
       "      <td>dutch</td>\n",
       "      <td>10</td>\n",
       "      <td>2</td>\n",
       "    </tr>\n",
       "    <tr>\n",
       "      <th>39</th>\n",
       "      <td>Taylor Lianne Chandler: Michael Phelps' Cougar...</td>\n",
       "      <td>14</td>\n",
       "      <td>swedish</td>\n",
       "      <td>8</td>\n",
       "      <td>1</td>\n",
       "    </tr>\n",
       "    <tr>\n",
       "      <th>42</th>\n",
       "      <td>Seth Rogen Is Woz</td>\n",
       "      <td>38</td>\n",
       "      <td>dutch</td>\n",
       "      <td>4</td>\n",
       "      <td>0</td>\n",
       "    </tr>\n",
       "    <tr>\n",
       "      <th>57</th>\n",
       "      <td>Bali Awry</td>\n",
       "      <td>44</td>\n",
       "      <td>swedish</td>\n",
       "      <td>2</td>\n",
       "      <td>0</td>\n",
       "    </tr>\n",
       "    <tr>\n",
       "      <th>58</th>\n",
       "      <td>Islamic State Leader al-Baghdadi “Not Dead”</td>\n",
       "      <td>22</td>\n",
       "      <td>dutch</td>\n",
       "      <td>6</td>\n",
       "      <td>0</td>\n",
       "    </tr>\n",
       "    <tr>\n",
       "      <th>68</th>\n",
       "      <td>US confirms death of Somalia terror group leader</td>\n",
       "      <td>53</td>\n",
       "      <td>dutch</td>\n",
       "      <td>8</td>\n",
       "      <td>0</td>\n",
       "    </tr>\n",
       "    <tr>\n",
       "      <th>70</th>\n",
       "      <td>ISLAMIC STATE BEHEADS MISSING AMERICAN JOURNAL...</td>\n",
       "      <td>87</td>\n",
       "      <td>swedish</td>\n",
       "      <td>9</td>\n",
       "      <td>0</td>\n",
       "    </tr>\n",
       "    <tr>\n",
       "      <th>74</th>\n",
       "      <td>Michael Brown shooting audio caught on tape?</td>\n",
       "      <td>75</td>\n",
       "      <td>finnish</td>\n",
       "      <td>7</td>\n",
       "      <td>1</td>\n",
       "    </tr>\n",
       "    <tr>\n",
       "      <th>78</th>\n",
       "      <td>Saudi fatwa banning snowmen triggers heated de...</td>\n",
       "      <td>16</td>\n",
       "      <td>swedish</td>\n",
       "      <td>7</td>\n",
       "      <td>0</td>\n",
       "    </tr>\n",
       "    <tr>\n",
       "      <th>80</th>\n",
       "      <td>Soldier, Gunman Killed In Shooting Incident Ne...</td>\n",
       "      <td>23</td>\n",
       "      <td>german</td>\n",
       "      <td>9</td>\n",
       "      <td>0</td>\n",
       "    </tr>\n",
       "    <tr>\n",
       "      <th>86</th>\n",
       "      <td>Canadian official identifies dead Ottawa gunma...</td>\n",
       "      <td>46</td>\n",
       "      <td>portuguese</td>\n",
       "      <td>9</td>\n",
       "      <td>0</td>\n",
       "    </tr>\n",
       "    <tr>\n",
       "      <th>89</th>\n",
       "      <td>Jihadi John identity revealed as Mohammed Emwa...</td>\n",
       "      <td>33</td>\n",
       "      <td>portuguese</td>\n",
       "      <td>8</td>\n",
       "      <td>0</td>\n",
       "    </tr>\n",
       "    <tr>\n",
       "      <th>93</th>\n",
       "      <td>Former PGA Tour player: Tiger Woods suspended ...</td>\n",
       "      <td>49</td>\n",
       "      <td>danish</td>\n",
       "      <td>11</td>\n",
       "      <td>0</td>\n",
       "    </tr>\n",
       "    <tr>\n",
       "      <th>102</th>\n",
       "      <td>Canadian Soldier Shot At Ottawa War Memorial: ...</td>\n",
       "      <td>48</td>\n",
       "      <td>danish</td>\n",
       "      <td>8</td>\n",
       "      <td>0</td>\n",
       "    </tr>\n",
       "    <tr>\n",
       "      <th>103</th>\n",
       "      <td>Audio recording allegedly captures moment Mich...</td>\n",
       "      <td>94</td>\n",
       "      <td>german</td>\n",
       "      <td>9</td>\n",
       "      <td>0</td>\n",
       "    </tr>\n",
       "    <tr>\n",
       "      <th>106</th>\n",
       "      <td>11 Tripoli Planes Still Missing, Sparks 9/11 C...</td>\n",
       "      <td>31</td>\n",
       "      <td>swedish</td>\n",
       "      <td>8</td>\n",
       "      <td>0</td>\n",
       "    </tr>\n",
       "    <tr>\n",
       "      <th>108</th>\n",
       "      <td>India Rape Crisis Sees Mob Castrate Alleged Se...</td>\n",
       "      <td>40</td>\n",
       "      <td>german</td>\n",
       "      <td>12</td>\n",
       "      <td>0</td>\n",
       "    </tr>\n",
       "    <tr>\n",
       "      <th>118</th>\n",
       "      <td>Islamic State flying three jets in Syria: monitor</td>\n",
       "      <td>20</td>\n",
       "      <td>german</td>\n",
       "      <td>8</td>\n",
       "      <td>0</td>\n",
       "    </tr>\n",
       "    <tr>\n",
       "      <th>122</th>\n",
       "      <td>Former U.S. soldier says IS used chemical weap...</td>\n",
       "      <td>10</td>\n",
       "      <td>dutch</td>\n",
       "      <td>10</td>\n",
       "      <td>2</td>\n",
       "    </tr>\n",
       "    <tr>\n",
       "      <th>124</th>\n",
       "      <td>Eyewitness Says Viral Video of Homeless Man Wa...</td>\n",
       "      <td>52</td>\n",
       "      <td>german</td>\n",
       "      <td>9</td>\n",
       "      <td>0</td>\n",
       "    </tr>\n",
       "    <tr>\n",
       "      <th>126</th>\n",
       "      <td>Meteorite strike in Nicaragua puzzles experts</td>\n",
       "      <td>63</td>\n",
       "      <td>german</td>\n",
       "      <td>6</td>\n",
       "      <td>0</td>\n",
       "    </tr>\n",
       "    <tr>\n",
       "      <th>127</th>\n",
       "      <td>Hunt for 'cruel' owner who abandoned dog at tr...</td>\n",
       "      <td>29</td>\n",
       "      <td>danish</td>\n",
       "      <td>10</td>\n",
       "      <td>0</td>\n",
       "    </tr>\n",
       "    <tr>\n",
       "      <th>128</th>\n",
       "      <td>Met police denies reports of Banksy arrest</td>\n",
       "      <td>28</td>\n",
       "      <td>dutch</td>\n",
       "      <td>7</td>\n",
       "      <td>0</td>\n",
       "    </tr>\n",
       "    <tr>\n",
       "      <th>136</th>\n",
       "      <td>US probing claims ISIS fighters seized airdrop...</td>\n",
       "      <td>46</td>\n",
       "      <td>danish</td>\n",
       "      <td>11</td>\n",
       "      <td>0</td>\n",
       "    </tr>\n",
       "    <tr>\n",
       "      <th>137</th>\n",
       "      <td>Meteorite 'caused mysterious boom in Nicaragua'</td>\n",
       "      <td>61</td>\n",
       "      <td>german</td>\n",
       "      <td>6</td>\n",
       "      <td>0</td>\n",
       "    </tr>\n",
       "    <tr>\n",
       "      <th>...</th>\n",
       "      <td>...</td>\n",
       "      <td>...</td>\n",
       "      <td>...</td>\n",
       "      <td>...</td>\n",
       "      <td>...</td>\n",
       "    </tr>\n",
       "    <tr>\n",
       "      <th>5354</th>\n",
       "      <td>Magic Mushrooms Found on Buckingham Palace Gro...</td>\n",
       "      <td>16</td>\n",
       "      <td>finnish</td>\n",
       "      <td>7</td>\n",
       "      <td>0</td>\n",
       "    </tr>\n",
       "    <tr>\n",
       "      <th>5466</th>\n",
       "      <td>Terrorist Plot Targeting Black Friday Shoppers...</td>\n",
       "      <td>2</td>\n",
       "      <td>swedish</td>\n",
       "      <td>7</td>\n",
       "      <td>0</td>\n",
       "    </tr>\n",
       "    <tr>\n",
       "      <th>5639</th>\n",
       "      <td>Gold Apple Watch Edition Could Cost As Much As...</td>\n",
       "      <td>19</td>\n",
       "      <td>portuguese</td>\n",
       "      <td>10</td>\n",
       "      <td>0</td>\n",
       "    </tr>\n",
       "    <tr>\n",
       "      <th>5869</th>\n",
       "      <td>Tiger Woods prices private island at $7.1 million</td>\n",
       "      <td>21</td>\n",
       "      <td>danish</td>\n",
       "      <td>8</td>\n",
       "      <td>1</td>\n",
       "    </tr>\n",
       "    <tr>\n",
       "      <th>6311</th>\n",
       "      <td>Vladimir Putin Bird Poop Video is Fake</td>\n",
       "      <td>14</td>\n",
       "      <td>dutch</td>\n",
       "      <td>7</td>\n",
       "      <td>0</td>\n",
       "    </tr>\n",
       "    <tr>\n",
       "      <th>6518</th>\n",
       "      <td>Report: Jose Canseco accidentally shot</td>\n",
       "      <td>14</td>\n",
       "      <td>swedish</td>\n",
       "      <td>5</td>\n",
       "      <td>0</td>\n",
       "    </tr>\n",
       "    <tr>\n",
       "      <th>6669</th>\n",
       "      <td>Kevin Vickers Hailed As Hero For Reportedly Sh...</td>\n",
       "      <td>17</td>\n",
       "      <td>portuguese</td>\n",
       "      <td>11</td>\n",
       "      <td>0</td>\n",
       "    </tr>\n",
       "    <tr>\n",
       "      <th>6777</th>\n",
       "      <td>Tiger Woods' former luxury island goes on sale</td>\n",
       "      <td>14</td>\n",
       "      <td>finnish</td>\n",
       "      <td>8</td>\n",
       "      <td>0</td>\n",
       "    </tr>\n",
       "    <tr>\n",
       "      <th>7005</th>\n",
       "      <td>Amazon reportedly launching free, ad-supported...</td>\n",
       "      <td>13</td>\n",
       "      <td>danish</td>\n",
       "      <td>8</td>\n",
       "      <td>0</td>\n",
       "    </tr>\n",
       "    <tr>\n",
       "      <th>7090</th>\n",
       "      <td>Future Apple Watches could include platinum mo...</td>\n",
       "      <td>10</td>\n",
       "      <td>swedish</td>\n",
       "      <td>9</td>\n",
       "      <td>0</td>\n",
       "    </tr>\n",
       "    <tr>\n",
       "      <th>7183</th>\n",
       "      <td>Mom Calls 911 On Masturbating Teenage Son; Boy...</td>\n",
       "      <td>2</td>\n",
       "      <td>french</td>\n",
       "      <td>15</td>\n",
       "      <td>0</td>\n",
       "    </tr>\n",
       "    <tr>\n",
       "      <th>8283</th>\n",
       "      <td>Apple 'working on 12-inch MacBook Air'</td>\n",
       "      <td>18</td>\n",
       "      <td>finnish</td>\n",
       "      <td>6</td>\n",
       "      <td>0</td>\n",
       "    </tr>\n",
       "    <tr>\n",
       "      <th>8346</th>\n",
       "      <td>A Murdered Witness?</td>\n",
       "      <td>13</td>\n",
       "      <td>hungarian</td>\n",
       "      <td>3</td>\n",
       "      <td>1</td>\n",
       "    </tr>\n",
       "    <tr>\n",
       "      <th>8663</th>\n",
       "      <td>BREAKING NEWS: Baseball star Jose Canseco hurt...</td>\n",
       "      <td>10</td>\n",
       "      <td>german</td>\n",
       "      <td>10</td>\n",
       "      <td>0</td>\n",
       "    </tr>\n",
       "    <tr>\n",
       "      <th>8983</th>\n",
       "      <td>Apple Watch reportedly has low-energy 'power r...</td>\n",
       "      <td>11</td>\n",
       "      <td>spanish</td>\n",
       "      <td>8</td>\n",
       "      <td>0</td>\n",
       "    </tr>\n",
       "    <tr>\n",
       "      <th>9263</th>\n",
       "      <td>ISIS Claims Female American Hostage, Kayla Mue...</td>\n",
       "      <td>10</td>\n",
       "      <td>german</td>\n",
       "      <td>10</td>\n",
       "      <td>0</td>\n",
       "    </tr>\n",
       "    <tr>\n",
       "      <th>9378</th>\n",
       "      <td>Sugarhill Gang Rapper Big Bank Hank Dies at 57</td>\n",
       "      <td>20</td>\n",
       "      <td>danish</td>\n",
       "      <td>9</td>\n",
       "      <td>0</td>\n",
       "    </tr>\n",
       "    <tr>\n",
       "      <th>9667</th>\n",
       "      <td>Analyst: Apple Watch Edition Could Cost $5,000</td>\n",
       "      <td>7</td>\n",
       "      <td>swedish</td>\n",
       "      <td>7</td>\n",
       "      <td>0</td>\n",
       "    </tr>\n",
       "    <tr>\n",
       "      <th>9745</th>\n",
       "      <td>‘Islamic tribunal confirmed in Texas’</td>\n",
       "      <td>6</td>\n",
       "      <td>german</td>\n",
       "      <td>5</td>\n",
       "      <td>0</td>\n",
       "    </tr>\n",
       "    <tr>\n",
       "      <th>10149</th>\n",
       "      <td>Doubts raised over authenticity of Charlie Heb...</td>\n",
       "      <td>3</td>\n",
       "      <td>dutch</td>\n",
       "      <td>8</td>\n",
       "      <td>1</td>\n",
       "    </tr>\n",
       "    <tr>\n",
       "      <th>10926</th>\n",
       "      <td>\"Oldest Time Capsule\" in U.S. Unearthed in Boston</td>\n",
       "      <td>11</td>\n",
       "      <td>dutch</td>\n",
       "      <td>8</td>\n",
       "      <td>2</td>\n",
       "    </tr>\n",
       "    <tr>\n",
       "      <th>11023</th>\n",
       "      <td>Apple Watch Power Reserve feature will save ba...</td>\n",
       "      <td>8</td>\n",
       "      <td>german</td>\n",
       "      <td>11</td>\n",
       "      <td>0</td>\n",
       "    </tr>\n",
       "    <tr>\n",
       "      <th>11456</th>\n",
       "      <td>Airport worker strips naked at Russian airport</td>\n",
       "      <td>6</td>\n",
       "      <td>danish</td>\n",
       "      <td>7</td>\n",
       "      <td>0</td>\n",
       "    </tr>\n",
       "    <tr>\n",
       "      <th>11645</th>\n",
       "      <td>Utah man hospitalized after eggnog-chugging co...</td>\n",
       "      <td>6</td>\n",
       "      <td>swedish</td>\n",
       "      <td>6</td>\n",
       "      <td>0</td>\n",
       "    </tr>\n",
       "    <tr>\n",
       "      <th>11906</th>\n",
       "      <td>Kayla Jean Mueller, U.S. hostage, killed in Jo...</td>\n",
       "      <td>12</td>\n",
       "      <td>dutch</td>\n",
       "      <td>11</td>\n",
       "      <td>2</td>\n",
       "    </tr>\n",
       "    <tr>\n",
       "      <th>12101</th>\n",
       "      <td>Man With Ebola-Like Symptoms Claims Contact Wi...</td>\n",
       "      <td>10</td>\n",
       "      <td>german</td>\n",
       "      <td>11</td>\n",
       "      <td>0</td>\n",
       "    </tr>\n",
       "    <tr>\n",
       "      <th>12876</th>\n",
       "      <td>Tom Brokaw wants Brian Williams fired</td>\n",
       "      <td>10</td>\n",
       "      <td>swedish</td>\n",
       "      <td>6</td>\n",
       "      <td>0</td>\n",
       "    </tr>\n",
       "    <tr>\n",
       "      <th>13368</th>\n",
       "      <td>Apple Watch reportedly features unannounced di...</td>\n",
       "      <td>3</td>\n",
       "      <td>swedish</td>\n",
       "      <td>10</td>\n",
       "      <td>0</td>\n",
       "    </tr>\n",
       "    <tr>\n",
       "      <th>14400</th>\n",
       "      <td>Report: Tom Brokaw Wants Brian Williams Fired</td>\n",
       "      <td>8</td>\n",
       "      <td>swedish</td>\n",
       "      <td>7</td>\n",
       "      <td>0</td>\n",
       "    </tr>\n",
       "    <tr>\n",
       "      <th>19614</th>\n",
       "      <td>Web Portal publishes death of \"Dog Whisperer\"</td>\n",
       "      <td>8</td>\n",
       "      <td>danish</td>\n",
       "      <td>7</td>\n",
       "      <td>0</td>\n",
       "    </tr>\n",
       "  </tbody>\n",
       "</table>\n",
       "<p>374 rows × 5 columns</p>\n",
       "</div>"
      ],
      "text/plain": [
       "                                                Headline  freq    language  \\\n",
       "10                                        Gateway Pundit    26     swedish   \n",
       "16            Boko Haram Denies Nigeria Cease-Fire Claim    53     swedish   \n",
       "19         ISIL Beheads American Photojournalist in Iraq   127      german   \n",
       "26     Luke Somers Dies In Rescue Attempt, Sister Say...    15      german   \n",
       "27     Christian Bale Exits Steve Jobs Movie (Exclusive)    43     swedish   \n",
       "35     Report: ISIS Leader Abu Bakr Al-Baghdadi Assas...    27       dutch   \n",
       "39     Taylor Lianne Chandler: Michael Phelps' Cougar...    14     swedish   \n",
       "42                                     Seth Rogen Is Woz    38       dutch   \n",
       "57                                             Bali Awry    44     swedish   \n",
       "58           Islamic State Leader al-Baghdadi “Not Dead”    22       dutch   \n",
       "68      US confirms death of Somalia terror group leader    53       dutch   \n",
       "70     ISLAMIC STATE BEHEADS MISSING AMERICAN JOURNAL...    87     swedish   \n",
       "74          Michael Brown shooting audio caught on tape?    75     finnish   \n",
       "78     Saudi fatwa banning snowmen triggers heated de...    16     swedish   \n",
       "80     Soldier, Gunman Killed In Shooting Incident Ne...    23      german   \n",
       "86     Canadian official identifies dead Ottawa gunma...    46  portuguese   \n",
       "89     Jihadi John identity revealed as Mohammed Emwa...    33  portuguese   \n",
       "93     Former PGA Tour player: Tiger Woods suspended ...    49      danish   \n",
       "102    Canadian Soldier Shot At Ottawa War Memorial: ...    48      danish   \n",
       "103    Audio recording allegedly captures moment Mich...    94      german   \n",
       "106    11 Tripoli Planes Still Missing, Sparks 9/11 C...    31     swedish   \n",
       "108    India Rape Crisis Sees Mob Castrate Alleged Se...    40      german   \n",
       "118    Islamic State flying three jets in Syria: monitor    20      german   \n",
       "122    Former U.S. soldier says IS used chemical weap...    10       dutch   \n",
       "124    Eyewitness Says Viral Video of Homeless Man Wa...    52      german   \n",
       "126        Meteorite strike in Nicaragua puzzles experts    63      german   \n",
       "127    Hunt for 'cruel' owner who abandoned dog at tr...    29      danish   \n",
       "128           Met police denies reports of Banksy arrest    28       dutch   \n",
       "136    US probing claims ISIS fighters seized airdrop...    46      danish   \n",
       "137      Meteorite 'caused mysterious boom in Nicaragua'    61      german   \n",
       "...                                                  ...   ...         ...   \n",
       "5354   Magic Mushrooms Found on Buckingham Palace Gro...    16     finnish   \n",
       "5466   Terrorist Plot Targeting Black Friday Shoppers...     2     swedish   \n",
       "5639   Gold Apple Watch Edition Could Cost As Much As...    19  portuguese   \n",
       "5869   Tiger Woods prices private island at $7.1 million    21      danish   \n",
       "6311              Vladimir Putin Bird Poop Video is Fake    14       dutch   \n",
       "6518              Report: Jose Canseco accidentally shot    14     swedish   \n",
       "6669   Kevin Vickers Hailed As Hero For Reportedly Sh...    17  portuguese   \n",
       "6777      Tiger Woods' former luxury island goes on sale    14     finnish   \n",
       "7005   Amazon reportedly launching free, ad-supported...    13      danish   \n",
       "7090   Future Apple Watches could include platinum mo...    10     swedish   \n",
       "7183   Mom Calls 911 On Masturbating Teenage Son; Boy...     2      french   \n",
       "8283              Apple 'working on 12-inch MacBook Air'    18     finnish   \n",
       "8346                                 A Murdered Witness?    13   hungarian   \n",
       "8663   BREAKING NEWS: Baseball star Jose Canseco hurt...    10      german   \n",
       "8983   Apple Watch reportedly has low-energy 'power r...    11     spanish   \n",
       "9263   ISIS Claims Female American Hostage, Kayla Mue...    10      german   \n",
       "9378      Sugarhill Gang Rapper Big Bank Hank Dies at 57    20      danish   \n",
       "9667      Analyst: Apple Watch Edition Could Cost $5,000     7     swedish   \n",
       "9745               ‘Islamic tribunal confirmed in Texas’     6      german   \n",
       "10149  Doubts raised over authenticity of Charlie Heb...     3       dutch   \n",
       "10926  \"Oldest Time Capsule\" in U.S. Unearthed in Boston    11       dutch   \n",
       "11023  Apple Watch Power Reserve feature will save ba...     8      german   \n",
       "11456     Airport worker strips naked at Russian airport     6      danish   \n",
       "11645  Utah man hospitalized after eggnog-chugging co...     6     swedish   \n",
       "11906  Kayla Jean Mueller, U.S. hostage, killed in Jo...    12       dutch   \n",
       "12101  Man With Ebola-Like Symptoms Claims Contact Wi...    10      german   \n",
       "12876              Tom Brokaw wants Brian Williams fired    10     swedish   \n",
       "13368  Apple Watch reportedly features unannounced di...     3     swedish   \n",
       "14400      Report: Tom Brokaw Wants Brian Williams Fired     8     swedish   \n",
       "19614      Web Portal publishes death of \"Dog Whisperer\"     8      danish   \n",
       "\n",
       "       wordCount  sentenceCount  \n",
       "10             2              0  \n",
       "16             6              0  \n",
       "19             6              0  \n",
       "26            16              0  \n",
       "27             7              0  \n",
       "35            10              2  \n",
       "39             8              1  \n",
       "42             4              0  \n",
       "57             2              0  \n",
       "58             6              0  \n",
       "68             8              0  \n",
       "70             9              0  \n",
       "74             7              1  \n",
       "78             7              0  \n",
       "80             9              0  \n",
       "86             9              0  \n",
       "89             8              0  \n",
       "93            11              0  \n",
       "102            8              0  \n",
       "103            9              0  \n",
       "106            8              0  \n",
       "108           12              0  \n",
       "118            8              0  \n",
       "122           10              2  \n",
       "124            9              0  \n",
       "126            6              0  \n",
       "127           10              0  \n",
       "128            7              0  \n",
       "136           11              0  \n",
       "137            6              0  \n",
       "...          ...            ...  \n",
       "5354           7              0  \n",
       "5466           7              0  \n",
       "5639          10              0  \n",
       "5869           8              1  \n",
       "6311           7              0  \n",
       "6518           5              0  \n",
       "6669          11              0  \n",
       "6777           8              0  \n",
       "7005           8              0  \n",
       "7090           9              0  \n",
       "7183          15              0  \n",
       "8283           6              0  \n",
       "8346           3              1  \n",
       "8663          10              0  \n",
       "8983           8              0  \n",
       "9263          10              0  \n",
       "9378           9              0  \n",
       "9667           7              0  \n",
       "9745           5              0  \n",
       "10149          8              1  \n",
       "10926          8              2  \n",
       "11023         11              0  \n",
       "11456          7              0  \n",
       "11645          6              0  \n",
       "11906         11              2  \n",
       "12101         11              0  \n",
       "12876          6              0  \n",
       "13368         10              0  \n",
       "14400          7              0  \n",
       "19614          7              0  \n",
       "\n",
       "[374 rows x 5 columns]"
      ]
     },
     "execution_count": 29,
     "metadata": {},
     "output_type": "execute_result"
    }
   ],
   "source": [
    "headlines.loc[headlines['language'] != 'english']"
   ]
  },
  {
   "cell_type": "markdown",
   "metadata": {},
   "source": [
    "Notice there are many headlines that are suspected as not english by our function. this is a faling of the function"
   ]
  },
  {
   "cell_type": "markdown",
   "metadata": {},
   "source": [
    "Also notice there are a number of headlines with the words 'Report:' or 'BREAKING NEWS:' at the start. these add nothing and could confuse the task. There are two headlines one says 'Tom Brokaw wants Brian Williams fired' and the other 'Report: Tom Brokaw Wants Brian Williams Fired' these are the same headline. We should consider how to handle these additions."
   ]
  },
  {
   "cell_type": "markdown",
   "metadata": {},
   "source": [
    "## Stance exploration"
   ]
  },
  {
   "cell_type": "code",
   "execution_count": 31,
   "metadata": {
    "collapsed": false
   },
   "outputs": [
    {
     "name": "stdout",
     "output_type": "stream",
     "text": [
      "there are: 49972 stances\n"
     ]
    }
   ],
   "source": [
    "print 'there are:',len(stances),'stances'"
   ]
  },
  {
   "cell_type": "code",
   "execution_count": 77,
   "metadata": {
    "collapsed": false
   },
   "outputs": [
    {
     "name": "stdout",
     "output_type": "stream",
     "text": [
      "Stance\n",
      "agree         3678\n",
      "disagree       840\n",
      "discuss       8909\n",
      "unrelated    36545\n",
      "Name: Stance, dtype: int64\n"
     ]
    }
   ],
   "source": [
    "print stances.groupby('Stance')['Stance'].count()"
   ]
  },
  {
   "cell_type": "code",
   "execution_count": 46,
   "metadata": {
    "collapsed": false
   },
   "outputs": [
    {
     "name": "stdout",
     "output_type": "stream",
     "text": [
      "Empty DataFrame\n",
      "Columns: [Headline, Body ID, Stance, articleBody, language, wordCount, sentenceCount, _merge]\n",
      "Index: []\n"
     ]
    }
   ],
   "source": [
    "df_all=stances.merge(bodies,how='outer',indicator=True)\n",
    "print df_all.loc[df_all['_merge'] != 'both']"
   ]
  },
  {
   "cell_type": "markdown",
   "metadata": {},
   "source": [
    "So there are no headlines that are not compared with at least one body and no body that is not compared to a headline."
   ]
  }
 ],
 "metadata": {
  "kernelspec": {
   "display_name": "fnc-1",
   "language": "python",
   "name": "fnc-1"
  },
  "language_info": {
   "codemirror_mode": {
    "name": "ipython",
    "version": 2
   },
   "file_extension": ".py",
   "mimetype": "text/x-python",
   "name": "python",
   "nbconvert_exporter": "python",
   "pygments_lexer": "ipython2",
   "version": "2.7.13"
  }
 },
 "nbformat": 4,
 "nbformat_minor": 2
}
