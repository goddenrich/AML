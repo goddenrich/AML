{
 "cells": [
  {
   "cell_type": "markdown",
   "metadata": {},
   "source": [
    "# Dataset exploration"
   ]
  },
  {
   "cell_type": "markdown",
   "metadata": {},
   "source": [
    "Import the packages"
   ]
  },
  {
   "cell_type": "code",
   "execution_count": 1,
   "metadata": {
    "collapsed": true,
    "deletable": true,
    "editable": true
   },
   "outputs": [],
   "source": [
    "%matplotlib inline\n",
    "import sys\n",
    "sys.path.insert(0, 'src/')"
   ]
  },
  {
   "cell_type": "code",
   "execution_count": 2,
   "metadata": {
    "collapsed": false,
    "deletable": true,
    "editable": true
   },
   "outputs": [],
   "source": [
    "import data_splitting\n",
    "import pandas as pd\n",
    "import sys\n",
    "\n",
    "import matplotlib.pyplot as plt\n",
    "import numpy as np\n",
    "\n",
    "try:\n",
    "    from nltk import wordpunct_tokenize\n",
    "    from nltk.corpus import stopwords\n",
    "except ImportError:\n",
    "    print '[!] You need to install nltk (http://nltk.org/index.html)'"
   ]
  },
  {
   "cell_type": "markdown",
   "metadata": {},
   "source": [
    "load the dataset files"
   ]
  },
  {
   "cell_type": "code",
   "execution_count": 3,
   "metadata": {
    "collapsed": false,
    "deletable": true,
    "editable": true
   },
   "outputs": [],
   "source": [
    "bf='dataset/train_bodies.csv'\n",
    "sf='dataset/train_stances.csv'\n",
    "\n",
    "bodies = pd.read_csv(bf)\n",
    "stances = pd.read_csv(sf)\n",
    "\n",
    "bs = data_splitting.import_data(bf,sf)"
   ]
  },
  {
   "cell_type": "markdown",
   "metadata": {},
   "source": [
    "## Article bodies exploration"
   ]
  },
  {
   "cell_type": "markdown",
   "metadata": {},
   "source": [
    "These functions predict the language of the body"
   ]
  },
  {
   "cell_type": "code",
   "execution_count": 4,
   "metadata": {
    "collapsed": true,
    "deletable": true,
    "editable": true
   },
   "outputs": [],
   "source": [
    "# http://blog.alejandronolla.com/2013/05/15/detecting-text-language-with-python-and-nltk/\n",
    "def _calculate_languages_ratios(text):\n",
    "\n",
    "    languages_ratios = {}\n",
    "\n",
    "    tokens = wordpunct_tokenize(text)\n",
    "    words = [word.lower() for word in tokens]\n",
    "\n",
    "    # Compute per language included in nltk number of unique stopwords appearing in analyzed text\n",
    "    for language in stopwords.fileids():\n",
    "        stopwords_set = set(stopwords.words(language))\n",
    "        words_set = set(words)\n",
    "        common_elements = words_set.intersection(stopwords_set)\n",
    "\n",
    "        languages_ratios[language] = len(common_elements) # language \"score\"\n",
    "\n",
    "    return languages_ratios\n",
    "\n",
    "\n",
    "def detect_language(text):\n",
    "\n",
    "    ratios = _calculate_languages_ratios(text)\n",
    "\n",
    "    most_rated_language = max(ratios, key=ratios.get)\n",
    "\n",
    "    return most_rated_language"
   ]
  },
  {
   "cell_type": "code",
   "execution_count": 5,
   "metadata": {
    "collapsed": false,
    "deletable": true,
    "editable": true
   },
   "outputs": [
    {
     "name": "stderr",
     "output_type": "stream",
     "text": [
      "/Users/richardgodden/envs/fnc-1/lib/python2.7/site-packages/ipykernel_launcher.py:13: UnicodeWarning: Unicode equal comparison failed to convert both arguments to Unicode - interpreting them as being unequal\n",
      "  del sys.path[0]\n"
     ]
    }
   ],
   "source": [
    "bodies['language']=bodies.apply(lambda row: detect_language(row['articleBody']), axis=1)\n",
    "bodies['wordCount']=bodies.apply(lambda row: len(row['articleBody'].split()), axis=1)\n",
    "bodies['sentenceCount']=bodies.apply(lambda row: row['articleBody'].count('.')+row['articleBody'].count('?')+row['articleBody'].count('!'), axis=1)"
   ]
  },
  {
   "cell_type": "code",
   "execution_count": 6,
   "metadata": {
    "collapsed": false,
    "deletable": true,
    "editable": true
   },
   "outputs": [
    {
     "name": "stdout",
     "output_type": "stream",
     "text": [
      "total number of bodies:  1683\n"
     ]
    }
   ],
   "source": [
    "print 'total number of bodies: ', len(bodies)"
   ]
  },
  {
   "cell_type": "code",
   "execution_count": 7,
   "metadata": {
    "collapsed": false,
    "deletable": true,
    "editable": true
   },
   "outputs": [
    {
     "data": {
      "text/html": [
       "<div>\n",
       "<table border=\"1\" class=\"dataframe\">\n",
       "  <thead>\n",
       "    <tr style=\"text-align: right;\">\n",
       "      <th></th>\n",
       "      <th>Body ID</th>\n",
       "      <th>articleBody</th>\n",
       "      <th>language</th>\n",
       "      <th>wordCount</th>\n",
       "      <th>sentenceCount</th>\n",
       "    </tr>\n",
       "  </thead>\n",
       "  <tbody>\n",
       "    <tr>\n",
       "      <th>413</th>\n",
       "      <td>624</td>\n",
       "      <td>您所访问的资源已不存在。\\n查看更多请返回网站主页。\\n» cctvnews.cn</td>\n",
       "      <td>swedish</td>\n",
       "      <td>4</td>\n",
       "      <td>1</td>\n",
       "    </tr>\n",
       "    <tr>\n",
       "      <th>594</th>\n",
       "      <td>891</td>\n",
       "      <td>A US airstrike allegedly killed ISIS leader Al...</td>\n",
       "      <td>spanish</td>\n",
       "      <td>8</td>\n",
       "      <td>1</td>\n",
       "    </tr>\n",
       "    <tr>\n",
       "      <th>1119</th>\n",
       "      <td>1686</td>\n",
       "      <td>L’inspecteur viral avoue que son petit coeur a...</td>\n",
       "      <td>french</td>\n",
       "      <td>430</td>\n",
       "      <td>45</td>\n",
       "    </tr>\n",
       "    <tr>\n",
       "      <th>1325</th>\n",
       "      <td>1989</td>\n",
       "      <td>ISIL beheaded British aid worker David Haines ...</td>\n",
       "      <td>french</td>\n",
       "      <td>12</td>\n",
       "      <td>1</td>\n",
       "    </tr>\n",
       "    <tr>\n",
       "      <th>1590</th>\n",
       "      <td>2391</td>\n",
       "      <td>VLADIMIR Putin’s Motorcade looks like a massiv...</td>\n",
       "      <td>hungarian</td>\n",
       "      <td>10</td>\n",
       "      <td>0</td>\n",
       "    </tr>\n",
       "    <tr>\n",
       "      <th>1670</th>\n",
       "      <td>2515</td>\n",
       "      <td>Et si Dieu était une femme? C'est ce qu'affirm...</td>\n",
       "      <td>french</td>\n",
       "      <td>263</td>\n",
       "      <td>16</td>\n",
       "    </tr>\n",
       "  </tbody>\n",
       "</table>\n",
       "</div>"
      ],
      "text/plain": [
       "      Body ID                                        articleBody   language  \\\n",
       "413       624          您所访问的资源已不存在。\\n查看更多请返回网站主页。\\n» cctvnews.cn    swedish   \n",
       "594       891  A US airstrike allegedly killed ISIS leader Al...    spanish   \n",
       "1119     1686  L’inspecteur viral avoue que son petit coeur a...     french   \n",
       "1325     1989  ISIL beheaded British aid worker David Haines ...     french   \n",
       "1590     2391  VLADIMIR Putin’s Motorcade looks like a massiv...  hungarian   \n",
       "1670     2515  Et si Dieu était une femme? C'est ce qu'affirm...     french   \n",
       "\n",
       "      wordCount  sentenceCount  \n",
       "413           4              1  \n",
       "594           8              1  \n",
       "1119        430             45  \n",
       "1325         12              1  \n",
       "1590         10              0  \n",
       "1670        263             16  "
      ]
     },
     "execution_count": 7,
     "metadata": {},
     "output_type": "execute_result"
    }
   ],
   "source": [
    "english = bodies.loc[bodies['language'] == 'english']\n",
    "nonenglish = bodies.loc[bodies['language'] != 'english']\n",
    "nonenglish"
   ]
  },
  {
   "cell_type": "markdown",
   "metadata": {},
   "source": [
    "### The non english bodies full text"
   ]
  },
  {
   "cell_type": "code",
   "execution_count": 8,
   "metadata": {
    "collapsed": false,
    "deletable": true,
    "editable": true
   },
   "outputs": [
    {
     "name": "stdout",
     "output_type": "stream",
     "text": [
      "您所访问的资源已不存在。\n",
      "查看更多请返回网站主页。\n",
      "» cctvnews.cn\n"
     ]
    }
   ],
   "source": [
    "print bodies.get_value(413,'articleBody')"
   ]
  },
  {
   "cell_type": "code",
   "execution_count": 9,
   "metadata": {
    "collapsed": false,
    "deletable": true,
    "editable": true
   },
   "outputs": [
    {
     "name": "stdout",
     "output_type": "stream",
     "text": [
      "A US airstrike allegedly killed ISIS leader Al-Baghdadi.\n"
     ]
    }
   ],
   "source": [
    "print bodies.get_value(594,'articleBody')"
   ]
  },
  {
   "cell_type": "code",
   "execution_count": 10,
   "metadata": {
    "collapsed": false,
    "deletable": true,
    "editable": true
   },
   "outputs": [
    {
     "name": "stdout",
     "output_type": "stream",
     "text": [
      "L’inspecteur viral avoue que son petit coeur a sauté de joie pendant une micro seconde en voyant cette nouvelle.\n",
      "\n",
      "Comme ont annoncé plusieurs médias (en prenant soin de mettre un point d’interrogation à la fin de leur titre, pour qu’on ne les accuse pas de propager des nouvelles-vidanges), le réalisateur de Star Wars epsiode VII, J. J. Abrams, aurait dit, au cours d’une cérémonie où il a reçu un prix de la part du Visual Effects Society (VES) le 4 février, qu’il souhaitait que Disney devance la sortie de son film à cet été.\n",
      "\n",
      "Wow! Nous qui attendions avec impatience la date de lancement officielle, prévue pour le 18 décembre!!\n",
      "\n",
      "Comme vous l’apprenait Métro récemment, les médias sautent souvent sur une nouvelle sans vérifier les informations de bases. Examinons:\n",
      "\n",
      "1. Tous les articles offrent comme source les sites iKwiz et Moviepilot.\n",
      "\n",
      "2. iKwiz est un site qui offre des quiz et du contenu léger sous forme de listes. Ce n’est pas un site de nouvelles.\n",
      "\n",
      "3. Moviepilot base son reportage sur cette vidéo YouTube qui apparaît sur… le site iKwiz.\n",
      "\n",
      "4. Donc: tous les articles à propos de cette rumeur se basent sur une seule vidéo YouTube, qui, il faut le mentionner, n’a pas été créée par un journaliste. Le vidéaste ne mentionne aucune source pour son information.\n",
      "\n",
      "5. Voici un article écrit le soir des VES sur la présence de J. J. Abrams. Aucune mention de la date de lancement de Star Wars.\n",
      "\n",
      "6. Voici une entrevue avec M. Abrams lors des VES. Encore une fois, aucune mention de la date de lancement.\n",
      "\n",
      "7. Le Twitter officiel de Star Wars a réagit le 10 février sur ces rumeurs. On écrit «Maintenez la cible! Seulement 310 jours avant #TheForceAwakens.» La date de lancement originale est donc reconfirmée:\n",
      "\n",
      "\n",
      "8. Disney studios n’ont toujours pas répondu au courriel que leur a lancé l’inspecteur viral, sollicitant une confirmation officielle. Il mettra à jour son article, au cas échéant.\n",
      "\n",
      "Mais, encore plus ridicule:\n",
      "\n",
      "9. Disney lancera Jurassic World cet été. Est-ce que Disney ressusciterait deux franchises-phares en même temps, séparant ainsi le revenu et l’attention médiatique? Voyons.\n",
      "\n",
      "10. Disney lance aussi un autre film à gros budget cet été: Ant-Man. Le terrain commence à être pas mal serré pour Disney.\n",
      "\n",
      "11. On ne peut pas devancer un film de six mois sans causer des problèmes majeurs de logistique, surtout pour un film comme Star Wars, où la myriade de joujoux et autres boîtes à lunch à l’effigie des personnages fait partie prenante du lancement.\n",
      "\n",
      "Journalisme 101, les amis. Le web est un endroit étrange.\n"
     ]
    }
   ],
   "source": [
    "print bodies.get_value(1119,'articleBody')"
   ]
  },
  {
   "cell_type": "code",
   "execution_count": 11,
   "metadata": {
    "collapsed": false,
    "deletable": true,
    "editable": true
   },
   "outputs": [
    {
     "name": "stdout",
     "output_type": "stream",
     "text": [
      "ISIL beheaded British aid worker David Haines as shown on released video.\n"
     ]
    }
   ],
   "source": [
    "print bodies.get_value(1325,'articleBody')"
   ]
  },
  {
   "cell_type": "code",
   "execution_count": 15,
   "metadata": {
    "collapsed": false
   },
   "outputs": [
    {
     "name": "stdout",
     "output_type": "stream",
     "text": [
      "VLADIMIR Putin’s Motorcade looks like a massive knob:\n",
      "Spotter: UsVThem\n"
     ]
    }
   ],
   "source": [
    "print bodies.get_value(1590,'articleBody')"
   ]
  },
  {
   "cell_type": "code",
   "execution_count": 12,
   "metadata": {
    "collapsed": false,
    "deletable": true,
    "editable": true
   },
   "outputs": [
    {
     "name": "stdout",
     "output_type": "stream",
     "text": [
      "Et si Dieu était une femme? C'est ce qu'affirme le père John Micheal O’neal, prêtre de 71 ans dans le Massachusetts. Le 29 janvier dernier, il est amené d’urgence à l’hôpital, victime d'une crise cardiaque. Quelques minutes après son arrivée, il est déclaré cliniquement mort. Les médecins parviennent finalement à le «ramener à la vie en redémarrant son cœur, 48 minutes après qu’il s’est arrêté, rapportent plusieurs médias américains.\n",
      "Le religieux américain a prétendu avoir des souvenirs clairs de ce qui lui était arrivé pendant ces longues minutes de mort clinique. Il explique avoir eu la sensation d’être sorti de son corps, entouré par une lumière écrasante, et éprouvé un sentiment d’intense amour autour de lui. Des sensations souvent évoquées par ceux qui ont fait l’expérience de mort imminente (EMI).  \n",
      "Dieu, une «figure maternelle chaleureuse et réconfortante»\n",
      "Mais John Micheal O’neal va plus loin. Il affirme être monté au ciel et avoir rencontré le Tout-puissant. Celui-ci serait un «être de lumière», mais surtout, une «figure maternelle chaleureuse et réconfortante».\n",
      "«Sa présence était à la fois immense et réconfortante», déclare le prêtre catholique. «Elle avait une voix douce et apaisante et sa présence était aussi rassurante que l'étreinte d'une mère. Le fait que Dieu soit une Sainte=Mère au lieu d'un Saint-Père ne me dérange pas, elle est tout ce que j'espérais et même plus encore».\n",
      "Ces déclarations ont provoqué l’émoi dans le clergé catholique de l'archidiocèse, obligeant le cardinal Sean P. O’Malley  à faire une déclaration publique, pour expliquer que Dieu n’était pas une femme et que le père O’neal avait subi des hallucinations.\n"
     ]
    }
   ],
   "source": [
    "print bodies.get_value(1670,'articleBody')"
   ]
  },
  {
   "cell_type": "markdown",
   "metadata": {},
   "source": [
    "### word and sentence counts"
   ]
  },
  {
   "cell_type": "code",
   "execution_count": 13,
   "metadata": {
    "collapsed": false,
    "deletable": true,
    "editable": true
   },
   "outputs": [
    {
     "data": {
      "image/png": "[encoded data removed]",
      "text/plain": [
       "<matplotlib.figure.Figure at 0x115ef87d0>"
      ]
     },
     "metadata": {},
     "output_type": "display_data"
    },
    {
     "name": "stdout",
     "output_type": "stream",
     "text": [
      "Min wordcount: 8\n",
      "Median wordcount: 302.0\n",
      "Max wordcount: 4788\n"
     ]
    }
   ],
   "source": [
    "plt.figure(figsize=(18.5, 10.5))\n",
    "a = english['wordCount']  # deterministic random data\n",
    "plt.hist(a.as_matrix(), bins='auto')  # plt.hist passes it's arguments to np.histogram\n",
    "plt.title(\"Histogram of the word count for bodies\")\n",
    "plt.show()\n",
    "print'Min wordcount:', a.min()\n",
    "print'Median wordcount:', a.median()\n",
    "print'Max wordcount:', a.max()"
   ]
  },
  {
   "cell_type": "code",
   "execution_count": 14,
   "metadata": {
    "collapsed": false,
    "deletable": true,
    "editable": true
   },
   "outputs": [
    {
     "data": {
      "image/png": "[encoded data removed]",
      "text/plain": [
       "<matplotlib.figure.Figure at 0x115ef8590>"
      ]
     },
     "metadata": {},
     "output_type": "display_data"
    },
    {
     "name": "stdout",
     "output_type": "stream",
     "text": [
      "Min sentence count: 0\n",
      "Median sentence count: 16.0\n",
      "Max sentence count: 225\n"
     ]
    }
   ],
   "source": [
    "plt.figure(figsize=(18.5, 10.5))\n",
    "a = english['sentenceCount']  # deterministic random data\n",
    "plt.hist(a.as_matrix(), bins='auto')  # plt.hist passes it's arguments to np.histogram\n",
    "plt.title(\"Histogram of the sentence count for bodies\")\n",
    "plt.show()\n",
    "print'Min sentence count:', a.min()\n",
    "print'Median sentence count:', a.median()\n",
    "print'Max sentence count:', a.max()"
   ]
  },
  {
   "cell_type": "markdown",
   "metadata": {
    "collapsed": true,
    "deletable": true,
    "editable": true
   },
   "source": [
    "## Headline exploration"
   ]
  },
  {
   "cell_type": "code",
   "execution_count": 37,
   "metadata": {
    "collapsed": false
   },
   "outputs": [],
   "source": [
    "headlines = stances.drop(['Body ID', 'Stance'], axis=1)\n",
    "headlines['freq'] = headlines.groupby('Headline')['Headline'].transform('count')\n",
    "headlines = headlines.drop_duplicates(subset=['Headline'])"
   ]
  },
  {
   "cell_type": "code",
   "execution_count": 39,
   "metadata": {
    "collapsed": false
   },
   "outputs": [],
   "source": [
    "headlines['language']=headlines.apply(lambda row: detect_language(row['Headline']), axis=1)\n",
    "headlines['wordCount']=headlines.apply(lambda row: len(row['Headline'].split()), axis=1)\n",
    "headlines['sentenceCount']=headlines.apply(lambda row: row['Headline'].count('.')+row['Headline'].count('?')+row['Headline'].count('!'), axis=1)"
   ]
  },
  {
   "cell_type": "code",
   "execution_count": 42,
   "metadata": {
    "collapsed": false
   },
   "outputs": [
    {
     "data": {
      "image/png": "[encoded data removed]",
      "text/plain": [
       "<matplotlib.figure.Figure at 0x117a8a2d0>"
      ]
     },
     "metadata": {},
     "output_type": "display_data"
    },
    {
     "name": "stdout",
     "output_type": "stream",
     "text": [
      "Min word count: 2\n",
      "Median word count: 11.0\n",
      "Max word count: 40\n"
     ]
    }
   ],
   "source": [
    "plt.figure(figsize=(18.5, 10.5))\n",
    "a = headlines['wordCount']  # deterministic random data\n",
    "plt.hist(a.as_matrix(), bins='auto')  # plt.hist passes it's arguments to np.histogram\n",
    "plt.title(\"Histogram of the word count for headlines\")\n",
    "plt.show()\n",
    "print'Min word count:', a.min()\n",
    "print'Median word count:', a.median()\n",
    "print'Max word count:', a.max()"
   ]
  },
  {
   "cell_type": "code",
   "execution_count": 44,
   "metadata": {
    "collapsed": false
   },
   "outputs": [
    {
     "data": {
      "image/png": "[encoded data removed]",
      "text/plain": [
       "<matplotlib.figure.Figure at 0x117531090>"
      ]
     },
     "metadata": {},
     "output_type": "display_data"
    },
    {
     "name": "stdout",
     "output_type": "stream",
     "text": [
      "Min freq count: 2\n",
      "Median freq count: 26.0\n",
      "Max freq count: 127\n"
     ]
    }
   ],
   "source": [
    "plt.figure(figsize=(18.5, 10.5))\n",
    "a = headlines['freq']  # deterministic random data\n",
    "plt.hist(a.as_matrix(), bins='auto')  # plt.hist passes it's arguments to np.histogram\n",
    "plt.title(\"Histogram of the number of articles each headline is compared to\")\n",
    "plt.show()\n",
    "print'Min freq count:', a.min()\n",
    "print'Median freq count:', a.median()\n",
    "print'Max freq count:', a.max()"
   ]
  },
  {
   "cell_type": "code",
   "execution_count": null,
   "metadata": {
    "collapsed": true
   },
   "outputs": [],
   "source": []
  }
 ],
 "metadata": {
  "kernelspec": {
   "display_name": "fnc-1",
   "language": "python",
   "name": "fnc-1"
  },
  "language_info": {
   "codemirror_mode": {
    "name": "ipython",
    "version": 2
   },
   "file_extension": ".py",
   "mimetype": "text/x-python",
   "name": "python",
   "nbconvert_exporter": "python",
   "pygments_lexer": "ipython2",
   "version": "2.7.13"
  }
 },
 "nbformat": 4,
 "nbformat_minor": 2
}
